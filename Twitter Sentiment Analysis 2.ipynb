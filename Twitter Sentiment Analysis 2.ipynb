{
 "cells": [
  {
   "cell_type": "code",
   "execution_count": 1,
   "metadata": {},
   "outputs": [
    {
     "name": "stdout",
     "output_type": "stream",
     "text": [
      "Requirement already satisfied: textblob in c:\\users\\nithy\\anaconda3\\lib\\site-packages (0.17.1)\n",
      "Requirement already satisfied: nltk>=3.1; python_version >= \"3\" in c:\\users\\nithy\\anaconda3\\lib\\site-packages (from textblob) (3.4.5)\n",
      "Requirement already satisfied: six in c:\\users\\nithy\\anaconda3\\lib\\site-packages (from nltk>=3.1; python_version >= \"3\"->textblob) (1.14.0)\n",
      "Note: you may need to restart the kernel to use updated packages.\n"
     ]
    }
   ],
   "source": [
    "pip install textblob"
   ]
  },
  {
   "cell_type": "code",
   "execution_count": 2,
   "metadata": {},
   "outputs": [
    {
     "name": "stdout",
     "output_type": "stream",
     "text": [
      "Requirement already satisfied: tweepy in c:\\users\\nithy\\anaconda3\\lib\\site-packages (4.5.0)\n",
      "Requirement already satisfied: requests<3,>=2.27.0 in c:\\users\\nithy\\anaconda3\\lib\\site-packages (from tweepy) (2.27.1)\n",
      "Requirement already satisfied: requests-oauthlib<2,>=1.0.0 in c:\\users\\nithy\\anaconda3\\lib\\site-packages (from tweepy) (1.3.1)\n",
      "Requirement already satisfied: urllib3<1.27,>=1.21.1 in c:\\users\\nithy\\anaconda3\\lib\\site-packages (from requests<3,>=2.27.0->tweepy) (1.25.8)\n",
      "Requirement already satisfied: idna<4,>=2.5; python_version >= \"3\" in c:\\users\\nithy\\anaconda3\\lib\\site-packages (from requests<3,>=2.27.0->tweepy) (2.8)\n",
      "Requirement already satisfied: charset-normalizer~=2.0.0; python_version >= \"3\" in c:\\users\\nithy\\anaconda3\\lib\\site-packages (from requests<3,>=2.27.0->tweepy) (2.0.11)\n",
      "Requirement already satisfied: certifi>=2017.4.17 in c:\\users\\nithy\\anaconda3\\lib\\site-packages (from requests<3,>=2.27.0->tweepy) (2019.11.28)\n",
      "Requirement already satisfied: oauthlib>=3.0.0 in c:\\users\\nithy\\anaconda3\\lib\\site-packages (from requests-oauthlib<2,>=1.0.0->tweepy) (3.2.0)\n",
      "Note: you may need to restart the kernel to use updated packages.\n"
     ]
    }
   ],
   "source": [
    "pip install tweepy"
   ]
  },
  {
   "cell_type": "code",
   "execution_count": 3,
   "metadata": {},
   "outputs": [],
   "source": [
    "import textblob"
   ]
  },
  {
   "cell_type": "code",
   "execution_count": null,
   "metadata": {},
   "outputs": [],
   "source": [
    "# install some NLTK corpora\n",
    "#python -m textblob.download_corpora"
   ]
  },
  {
   "cell_type": "code",
   "execution_count": 4,
   "metadata": {},
   "outputs": [
    {
     "name": "stdout",
     "output_type": "stream",
     "text": [
      "Positive tweets percentage: 16.666666666666668 %\n",
      "Negative tweets percentage: 8.974358974358974 %\n",
      "Neutral tweets percentage: 74.35897435897436 % \n",
      "\n",
      "\n",
      "\n",
      "Positive tweets:\n",
      "RT @internet4i: Warning to @serveriusbv company:\n",
      "Stop your cooperation with Arvan Cloud and other companies that restrict free Internet acc…\n",
      "RT @NazaninNour: Gentle reminder to stay focused on the people of Iran. \n",
      "\n",
      "Stay focused on people who affect policy, and can take meaningful…\n",
      "RT @HRANA_English: The Supreme Court of Iran confirmed #Mohammad_Ghobadloo's death sentence. Ghobadloo was arrested at recent protests and…\n",
      "RT @NazaninAJ: Please familiarize yourself with the good work and people (academics, scientists, strategists…) behind @PhoenixprjIran estab…\n",
      "RT @shahnazfarzaneh: @EPPGroup @ManfredWeber Appreciate your support.  So far more than 780 protesters have been killed and #MEK has the na…\n",
      "RT @s_m_marandi: The west is on the right side of history in Ukraine.\n",
      "\n",
      "Just like how it was on the right side of history in Vietnam, Iraq,…\n",
      "RT @YeOne_Rhie: Many of you ask how can you still do business with the IRI. Do you not care what's going on? We do. Thats why Germany suspe…\n",
      "RT @gholamkhshani: In these moments, we keep the women and men who have sacrificed their lives in #Iran uprisings, especially the innocent…\n",
      "RT @womenncri: Light always triumphs over darkness.\n",
      "Iran will be free! Indeed!\n",
      "\n",
      "#IranRevolution https://t.co/m5bSoRTw8f\n",
      "RT @Action4IR: The Supreme Court of the Islamic Republic of Iran has confirmed the #MohammadGhobadlou death penalty. Mohammad is just 22 an…\n",
      "\n",
      "\n",
      "Negative tweets:\n",
      "RT @omid9: @shirinfdehghan Horrifically, deaths soon after release has little to do with trauma. Prison medics in Iran confirm they’ve been…\n",
      "RT @iran_policy: Brief on Iran’s nationwide uprising \n",
      "December 19, 2022 \n",
      "The Foreign Affairs Committee of the National Council of Resistanc…\n",
      "RT @bohemiantoo: @StephieGilley You mean Secretary of State Antony Blinken, Finance Minister Janet Yellen, Homeland Security Secretary Alej…\n",
      "RT @Sunhunterm: 🆘 Don't listen to Niacs about Iran news! Look up #Izeh hashtag in Iran for a few minutes… #MahsaAmini #مهسا_امینی\n",
      "RT @DowlatNowrouzi: The criminal regime in #Iran believed its killing &amp; barbarity would force people to bow to the religious dictatorship,…\n",
      "@Michael12265461 @ericareport Is democracy not important to you. If not go and live in Russia or Iran then and you… https://t.co/AzvPF48IMf\n",
      "@NotCommonOne @DailyNewsCrypto @KyivIndependent \"Again, ignorance (or is it just blind hatred with no sense). russi… https://t.co/Vjw2WGOC8b\n"
     ]
    }
   ],
   "source": [
    "import re\n",
    "import tweepy\n",
    "from tweepy import OAuthHandler\n",
    "from textblob import TextBlob\n",
    "\n",
    "class TwitterClient(object):\n",
    "    '''\n",
    "    Generic Twitter Class for sentiment analysis.\n",
    "    '''\n",
    "    def __init__(self):\n",
    "        '''\n",
    "        Class constructor or initialization method.\n",
    "        '''\n",
    "        # keys and tokens from the Twitter Dev Console\n",
    "        consumer_key = ''\n",
    "        consumer_secret = ''\n",
    "        access_token = ''\n",
    "        access_token_secret = ''\n",
    "\n",
    "        # attempt authentication\n",
    "        try:\n",
    "            # create OAuthHandler object\n",
    "            self.auth = OAuthHandler(consumer_key, consumer_secret)\n",
    "            # set access token and secret\n",
    "            self.auth.set_access_token(access_token, access_token_secret)\n",
    "            # create tweepy API object to fetch tweets\n",
    "            self.api = tweepy.API(self.auth)\n",
    "        except:\n",
    "            print(\"Error: Authentication Failed\")\n",
    "\n",
    "    def clean_tweet(self, tweet):\n",
    "        '''\n",
    "        Utility function to clean tweet text by removing links, special characters\n",
    "        using simple regex statements.\n",
    "        '''\n",
    "        return ' '.join(re.sub(\"(@[A-Za-z0-9]+)|([^0-9A-Za-z \\t])|(\\w+:\\/\\/\\S+)\", \" \", tweet).split())\n",
    "\n",
    "    def get_tweet_sentiment(self, tweet):\n",
    "        '''\n",
    "        Utility function to classify sentiment of passed tweet\n",
    "        using textblob's sentiment method\n",
    "        '''\n",
    "        # create TextBlob object of passed tweet text\n",
    "        analysis = TextBlob(self.clean_tweet(tweet))\n",
    "        # set sentiment\n",
    "        if analysis.sentiment.polarity > 0:\n",
    "            return 'positive'\n",
    "        elif analysis.sentiment.polarity == 0:\n",
    "            return 'neutral'\n",
    "        else:\n",
    "            return 'negative'\n",
    "\n",
    "    def get_tweets(self, query, count = 10):\n",
    "        '''\n",
    "        Main function to fetch tweets and parse them.\n",
    "        '''\n",
    "        # empty list to store parsed tweets\n",
    "        tweets = []\n",
    "\n",
    "        try:\n",
    "            # call twitter api to fetch tweets\n",
    "            fetched_tweets = self.api.search_tweets(q = query, count = count)\n",
    "\n",
    "            # parsing tweets one by one\n",
    "            for tweet in fetched_tweets:\n",
    "                # empty dictionary to store required params of a tweet\n",
    "                parsed_tweet = {}\n",
    "\n",
    "                # saving text of tweet\n",
    "                parsed_tweet['text'] = tweet.text\n",
    "                # saving sentiment of tweet\n",
    "                parsed_tweet['sentiment'] = self.get_tweet_sentiment(tweet.text)\n",
    "\n",
    "                # appending parsed tweet to tweets list\n",
    "                if tweet.retweet_count > 0:\n",
    "                    # if tweet has retweets, ensure that it is appended only once\n",
    "                    if parsed_tweet not in tweets:\n",
    "                        tweets.append(parsed_tweet)\n",
    "                else:\n",
    "                    tweets.append(parsed_tweet)\n",
    "\n",
    "            # return parsed tweets\n",
    "            return tweets\n",
    "\n",
    "        except tweepy.TweepError as e:\n",
    "            # print error (if any)\n",
    "            print(\"Error : \" + str(e))\n",
    "\n",
    "def main():\n",
    "    # creating object of TwitterClient Class\n",
    "    api = TwitterClient()\n",
    "    # calling function to get tweets\n",
    "    tweets = api.get_tweets(query = 'Iran', count = 200)\n",
    "\n",
    "    # picking positive tweets from tweets\n",
    "    ptweets = [tweet for tweet in tweets if tweet['sentiment'] == 'positive']\n",
    "    # percentage of positive tweets\n",
    "    print(\"Positive tweets percentage: {} %\".format(100*len(ptweets)/len(tweets)))\n",
    "    # picking negative tweets from tweets\n",
    "    ntweets = [tweet for tweet in tweets if tweet['sentiment'] == 'negative']\n",
    "    # percentage of negative tweets\n",
    "    print(\"Negative tweets percentage: {} %\".format(100*len(ntweets)/len(tweets)))\n",
    "    # percentage of neutral tweets\n",
    "    print(\"Neutral tweets percentage: {} % \\n\".format(100*(len(tweets) -(len( ntweets )+len( ptweets)))/len(tweets)))\n",
    "\n",
    "    # printing first 5 positive tweets\n",
    "    print(\"\\n\\nPositive tweets:\")\n",
    "    for tweet in ptweets[:10]:\n",
    "        print(tweet['text'])\n",
    "\n",
    "    # printing first 5 negative tweets\n",
    "    print(\"\\n\\nNegative tweets:\")\n",
    "    for tweet in ntweets[:10]:\n",
    "        print(tweet['text'])\n",
    "\n",
    "main()\n"
   ]
  },
  {
   "cell_type": "code",
   "execution_count": null,
   "metadata": {},
   "outputs": [],
   "source": []
  },
  {
   "cell_type": "code",
   "execution_count": null,
   "metadata": {},
   "outputs": [],
   "source": []
  },
  {
   "cell_type": "code",
   "execution_count": null,
   "metadata": {},
   "outputs": [],
   "source": []
  },
  {
   "cell_type": "code",
   "execution_count": null,
   "metadata": {},
   "outputs": [],
   "source": []
  },
  {
   "cell_type": "code",
   "execution_count": null,
   "metadata": {},
   "outputs": [],
   "source": []
  }
 ],
 "metadata": {
  "kernelspec": {
   "display_name": "Python 3",
   "language": "python",
   "name": "python3"
  },
  "language_info": {
   "codemirror_mode": {
    "name": "ipython",
    "version": 3
   },
   "file_extension": ".py",
   "mimetype": "text/x-python",
   "name": "python",
   "nbconvert_exporter": "python",
   "pygments_lexer": "ipython3",
   "version": "3.7.6"
  }
 },
 "nbformat": 4,
 "nbformat_minor": 4
}
